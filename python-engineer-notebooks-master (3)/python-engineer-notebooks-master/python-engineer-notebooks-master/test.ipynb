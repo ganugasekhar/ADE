{
 "cells": [
  {
   "cell_type": "code",
   "execution_count": 8,
   "metadata": {},
   "outputs": [
    {
     "name": "stdout",
     "output_type": "stream",
     "text": [
      "1 2\n",
      "2 5\n",
      "5 4\n",
      "4 6\n",
      "6 7\n"
     ]
    },
    {
     "data": {
      "text/plain": [
       "[2, 1, 5, 2, 4, 5, 6, 4, 7, 6, 7]"
      ]
     },
     "execution_count": 8,
     "metadata": {},
     "output_type": "execute_result"
    }
   ],
   "source": [
    "l = [1,2,5,4,6,7] \n",
    "result = []\n",
    "for i in range (len(l)):\n",
    "    if i+1 != len(l) :\n",
    "        print(l[i], l[i+1])\n",
    "        result.append (l[i+1])\n",
    "        result.append(l[i])\n",
    "    else:\n",
    "        result.append(l[i])\n",
    "\n",
    "result"
   ]
  }
 ],
 "metadata": {
  "kernelspec": {
   "display_name": "Python 3",
   "language": "python",
   "name": "python3"
  },
  "language_info": {
   "codemirror_mode": {
    "name": "ipython",
    "version": 3
   },
   "file_extension": ".py",
   "mimetype": "text/x-python",
   "name": "python",
   "nbconvert_exporter": "python",
   "pygments_lexer": "ipython3",
   "version": "3.10.0"
  }
 },
 "nbformat": 4,
 "nbformat_minor": 2
}
